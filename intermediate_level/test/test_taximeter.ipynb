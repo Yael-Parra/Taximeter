{
 "cells": [
  {
   "cell_type": "code",
   "execution_count": 2,
   "metadata": {},
   "outputs": [
    {
     "ename": "ModuleNotFoundError",
     "evalue": "No module named 'taximeter'",
     "output_type": "error",
     "traceback": [
      "\u001b[1;31m---------------------------------------------------------------------------\u001b[0m",
      "\u001b[1;31mModuleNotFoundError\u001b[0m                       Traceback (most recent call last)",
      "Cell \u001b[1;32mIn[2], line 4\u001b[0m\n\u001b[0;32m      2\u001b[0m \u001b[38;5;28;01mimport\u001b[39;00m \u001b[38;5;21;01mjson\u001b[39;00m\n\u001b[0;32m      3\u001b[0m \u001b[38;5;28;01mimport\u001b[39;00m \u001b[38;5;21;01mdatetime\u001b[39;00m\n\u001b[1;32m----> 4\u001b[0m \u001b[38;5;28;01mfrom\u001b[39;00m \u001b[38;5;21;01mtaximeter\u001b[39;00m\u001b[38;5;21;01m.\u001b[39;00m\u001b[38;5;21;01mtaximeter_intermediate_level\u001b[39;00m \u001b[38;5;28;01mimport\u001b[39;00m load_rates, demand_level, log_ride\n",
      "\u001b[1;31mModuleNotFoundError\u001b[0m: No module named 'taximeter'"
     ]
    }
   ],
   "source": [
    "import pytest\n",
    "import json\n",
    "import datetime\n",
    "from taximeter.taximeter_intermediate_level import load_rates, demand_level, log_ride  "
   ]
  },
  {
   "cell_type": "code",
   "execution_count": null,
   "metadata": {},
   "outputs": [],
   "source": [
    "def test_load_rates():\n",
    "    rates = load_rates()\n",
    "    assert \"base\" in rates\n",
    "    assert \"demand_multipliers\" in rates\n",
    "    assert rates[\"base\"][\"stationary\"] == 0.02  \n",
    "    assert rates[\"base\"][\"motion\"] == 0.05  \n",
    "\n",
    "def test_demand_level(monkeypatch):\n",
    "    # Mock the datetime to control the current time\n",
    "    class MockDatetime:\n",
    "        @classmethod\n",
    "        def now(cls):\n",
    "            return datetime.datetime(2023, 6, 15, 8, 0)  # A weekday in June\n",
    "\n",
    "    monkeypatch.setattr(datetime, 'datetime', MockDatetime)\n",
    "\n",
    "    demand = demand_level()\n",
    "    assert \"High Demand\" in demand  # Check if the demand level is high\n",
    "\n",
    "def test_log_ride(tmp_path):\n",
    "    log_file = tmp_path / \"test_log.json\"\n",
    "    total_ride = 10.0\n",
    "    demand_multiplier = 1.0\n",
    "\n",
    "    log_ride(total_ride, demand_multiplier)\n",
    "\n",
    "    # Read the log file to verify the entry\n",
    "    with open(log_file, \"r\") as f:\n",
    "        log_entries = f.readlines()\n",
    "        assert len(log_entries) == 1  # Ensure one entry was logged\n",
    "        log_entry = json.loads(log_entries[0])\n",
    "        assert log_entry[\"total_ride\"] == total_ride\n",
    "        assert log_entry[\"demand_multiplier\"] == demand_multiplier\n",
    "\n",
    "# To run the tests, use the command: pytest tests/test_taximeter.py"
   ]
  }
 ],
 "metadata": {
  "kernelspec": {
   "display_name": "base",
   "language": "python",
   "name": "python3"
  },
  "language_info": {
   "codemirror_mode": {
    "name": "ipython",
    "version": 3
   },
   "file_extension": ".py",
   "mimetype": "text/x-python",
   "name": "python",
   "nbconvert_exporter": "python",
   "pygments_lexer": "ipython3",
   "version": "3.12.4"
  }
 },
 "nbformat": 4,
 "nbformat_minor": 2
}
